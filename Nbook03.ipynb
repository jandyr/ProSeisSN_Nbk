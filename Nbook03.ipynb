{
 "cells": [
  {
   "cell_type": "markdown",
   "metadata": {
    "id": "1zTrGT3dQrSW"
   },
   "source": [
    "# Processing passive seismic data\n",
    "\n",
    "This notebook deals with data processing using a passive seismic dataset using [ObsPy](https://docs.obspy.org/).\n",
    "\n",
    "## It is intended to be run in Colab.\n",
    "\n",
    "\n",
    "#### Dependencies: Obspy, Numpy, Matplotlib\n",
    "\n",
    "#### Reset the Jupyter/IPython notebook in order to run it again, press:\n",
    "***Kernel*** -> ***Restart & Clear Output***"
   ]
  },
  {
   "cell_type": "markdown",
   "metadata": {
    "id": "hwxkSEiXEKVn"
   },
   "source": [
    "---\n",
    "## Install Conda and create an *environment*, and install the required *packages* for the work.\n",
    "\n",
    "* The `condacolab` commands need to be run as the first Code cell!\n",
    "* After `condacolab.install()`, the Python kernel will be restarted.\n",
    "* Do not use the `Run all` option. Run the `condacolab` cell _individually_ and wait for the kernel to restart.\n",
    "* You can only use the `base` environment. Do not try to create new ones; instead update `base` with either:\n",
    "  * `conda install <packages>`\n",
    "  * `conda env update -n base -f environment.yml`\n",
    "\n",
    "## ***Attn:*** Every time you quit or reset the runtime, you wil need to install Conda again."
   ]
  },
  {
   "cell_type": "code",
   "execution_count": null,
   "metadata": {
    "colab": {
     "base_uri": "https://localhost:8080/"
    },
    "id": "4bt_TamvFMz_",
    "outputId": "cd159202-b7cc-4f6b-fd28-6c9c4390cdd1"
   },
   "outputs": [],
   "source": [
    "# Import and install condacolab python library.\n",
    "!pip install -q condacolab\n",
    "import condacolab\n",
    "condacolab.install()"
   ]
  },
  {
   "cell_type": "code",
   "execution_count": null,
   "metadata": {
    "colab": {
     "base_uri": "https://localhost:8080/"
    },
    "id": "V2joec4SFhWz",
    "outputId": "52a44389-ed16-4053-e9c1-ea4dfba1d2b0"
   },
   "outputs": [],
   "source": [
    "#  kernel restart HERE!\n",
    "import condacolab\n",
    "condacolab.check()"
   ]
  },
  {
   "cell_type": "code",
   "execution_count": null,
   "metadata": {
    "colab": {
     "base_uri": "https://localhost:8080/"
    },
    "id": "NZngyofTmfBC",
    "outputId": "dd643033-3725-4609-9846-3015b27e4bcc"
   },
   "outputs": [],
   "source": [
    "# Verify the Conda installation. Update.\n",
    "!conda --version\n",
    "#!conda update -n base -c defaults conda --yes\n",
    "!conda update -n base -c conda-forge conda --yes\n",
    "!conda --version\n",
    "\n",
    "# Create environment.yml\n",
    "#!printf \"\\n channels: \\n   - defaults \\n   - conda-forge \\n dependencies: \\n   - python>=3.12.5 \\n   - cartopy \\n   - pip \\n   - pip: \\n     - numpy>=1.15.0 \\n     - scipy>=1.4.0 \\n     - matplotlib \\n     - seaborn \\n     - obspy \\n     - jupyterlab \\n     - pandas \\n     - pyqt5 \\n     - pyrocko \\n     - utm \\n     - segyio \\n\" >> environment.yml\n",
    "#!cat environment.yml\n",
    "#!conda env update -n base -f environment.yml\n",
    "\n",
    "# Update the base environment\n",
    "!conda install pandas numpy matplotlib numpy>=1.15.0 scipy>=1.4.0 certifi cartopy obspy utm segyio\n",
    "\n",
    "#Locate the Conda package. List environments. Verify the Conda installation.\n",
    "!conda info\n",
    "!which conda\n",
    "!conda env list\n",
    "!conda list\n",
    "\n",
    "# matplotlib magic command for Colab\n",
    "%matplotlib inline\n",
    "# matplotlib magic command for local Notebook\n",
    "#%matplotlib notebook\n",
    "\n",
    "# Import matplotlib and alias it as 'plt'\n",
    "from matplotlib import pyplot as plt\n",
    "%matplotlib notebook\n"
   ]
  },
  {
   "cell_type": "markdown",
   "metadata": {
    "id": "NDxK3mML_sIh"
   },
   "source": [
    "---\n",
    "### Accessing a local data\n",
    "\n",
    "We work with data form an event occured in Acre in 2024 in miniSEED format and already with the instrument response removed [wb11793085_ir.mseed](https://github.com/jandyr/ProSeisSN_Nbk/blob/main/wb11793085_ir.mseed).\n",
    "\n",
    "|EventID | Time | Lat | Long | Depth(km) | Mww | Location |\n",
    "| :- | :-: | :- | :- | :-: | :-: | :- |\n",
    "|11793085|2024-01-20T21:31|-7.2879|-71.464|607|6.6|WESTERN BRAZIL|\n",
    "\n",
    "As recorded at station IU HKT, distant $44^{\\circ}$ from the event.\n",
    "\n",
    "|Station|Seismometer| Lat | Long | Depth(m) | Channels |\n",
    "| :- | :- | :- | :- | :-: | :-: |\n",
    "|HKT: Hockley1 Texas|Streckeisen STS-6A VBB |29.96|-95.84|93|BH1, BH2, BHZ|\n"
   ]
  },
  {
   "cell_type": "code",
   "execution_count": null,
   "metadata": {
    "id": "P1xlciOwGAcN"
   },
   "outputs": [],
   "source": [
    "from obspy import read"
   ]
  },
  {
   "cell_type": "markdown",
   "metadata": {
    "id": "7Nbg5ntHGIs9"
   },
   "source": [
    "Use the read function with the path to the data file.\n",
    "\n",
    "**st** is a stream object, which contains the data and associated metadata. The data are collections of trace objects."
   ]
  },
  {
   "cell_type": "code",
   "execution_count": null,
   "metadata": {
    "colab": {
     "base_uri": "https://localhost:8080/",
     "height": 374
    },
    "id": "dFXFE-hXGqBF",
    "outputId": "a7240905-18f7-43bc-c8ea-936d3ca35122"
   },
   "outputs": [],
   "source": [
    "st = read('/wb11793085.mseed')\n",
    "print(st)"
   ]
  },
  {
   "cell_type": "markdown",
   "metadata": {},
   "source": [
    "---\n",
    "### The frequency content\n",
    "\n",
    "The [spectrogram](https://docs.obspy.org/tutorial/code_snippets/plotting_spectrograms.html) shows the power in frequency bands (along the y-axis) for every few samples in time (along the x-axis). Warmer colours indicate more power - this station has most of it's power below 1 Hz, which is common for a time-period dominated by seismic noise."
   ]
  },
  {
   "cell_type": "code",
   "execution_count": null,
   "metadata": {
    "id": "8YfTYNe4uiNl"
   },
   "outputs": [],
   "source": [
    "# Read a trace from the stream object.\n",
    "tr = st[2]\n",
    "print(tr)\n",
    "# Print the trace metadata, e.g., tr.stats.npts\n",
    "print(tr.stats)\n",
    "\n",
    "# Construct a figure for BHZ trace\n",
    "fig, ax = plt.subplots()\n",
    "_ = st[2].spectrogram(log=True, dbscale=True, axes=ax, show=True, cmap = \"jet\")\n",
    "\n",
    "plt.show()"
   ]
  },
  {
   "cell_type": "markdown",
   "metadata": {
    "id": "GrMCXAnaw11x"
   },
   "source": [
    "## 3) Filtering\n",
    "**ObsPy** has several [filters](https://docs.obspy.org/packages/autogen/obspy.core.trace.Trace.filter.html).:\n",
    "- \"bandpass\" filters *retain* a frequency range $\\Delta f=\\left[f_{1},f_{2}\\right]=f_{1}\\leq\\Delta f\\leq f_{2}$;\n",
    "- \"lowpass\" filters *retain* the frequency range $\\Delta f\\leq f_{cutoff}$;\n",
    "- \"highpass\" filters *retain* the frequency range $\\Delta f\\geq f_{cutoff}$;\n",
    "- \"notch\" filters *remove* the frequency range $f_{1}\\leq\\Delta f\\leq f_{2}$, therefore does the *opposite* of bandpass.\n",
    "\n"
   ]
  },
  {
   "cell_type": "code",
   "execution_count": null,
   "metadata": {
    "id": "wnG7Aqrb0cHh"
   },
   "outputs": [],
   "source": [
    "# Import obspy Stream\n",
    "from obspy import Stream\n",
    "\n",
    "# BHZ trace. Check.\n",
    "# Read a trace from the stream object.\n",
    "tr = st[2]\n",
    "print(tr.stats.channel)\n",
    "tr.plot()\n",
    "\n",
    "# corners=filter order; zerophase=True, results in a zero phase shift.\n",
    "#tr.filter(\"highpass\", freq=6.)\n",
    "tr.filter(\"bandpass\", freqmin=6., freqmax=11.)\n",
    "\n",
    "# Plot filtered trace\n",
    "tr.plot(color = 'blue');\n",
    "\n",
    "# Plot spectograms\n",
    "fig, ax = plt.subplots()\n",
    "_ = tr.spectrogram(log=True, dbscale=True, axes=ax, show=True, cmap = \"jet\")"
   ]
  }
 ],
 "metadata": {
  "colab": {
   "provenance": []
  },
  "kernelspec": {
   "display_name": "Python 3 (ipykernel)",
   "language": "python",
   "name": "python3"
  },
  "language_info": {
   "codemirror_mode": {
    "name": "ipython",
    "version": 3
   },
   "file_extension": ".py",
   "mimetype": "text/x-python",
   "name": "python",
   "nbconvert_exporter": "python",
   "pygments_lexer": "ipython3",
   "version": "3.9.7"
  }
 },
 "nbformat": 4,
 "nbformat_minor": 1
}
