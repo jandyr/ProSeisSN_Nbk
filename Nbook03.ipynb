{
  "cells": [
    {
      "cell_type": "markdown",
      "metadata": {
        "id": "view-in-github",
        "colab_type": "text"
      },
      "source": [
        "<a href=\"https://colab.research.google.com/github/jandyr/ProSeisSN_Nbk/blob/main/Nbook03.ipynb\" target=\"_parent\"><img src=\"https://colab.research.google.com/assets/colab-badge.svg\" alt=\"Open In Colab\"/></a>"
      ]
    },
    {
      "cell_type": "markdown",
      "metadata": {
        "id": "1zTrGT3dQrSW"
      },
      "source": [
        "# Processing passive seismic data\n",
        "\n",
        "This notebook deals with data processing using a passive seismic dataset using [ObsPy](https://docs.obspy.org/).\n",
        "\n",
        "## It is intended to be run in Colab.\n",
        "\n",
        "\n",
        "#### Dependencies: Obspy, Numpy, Matplotlib\n",
        "\n",
        "#### Reset the Jupyter/IPython notebook in order to run it again, press:\n",
        "***Kernel*** -> ***Restart & Clear Output***"
      ]
    },
    {
      "cell_type": "markdown",
      "metadata": {
        "id": "hwxkSEiXEKVn"
      },
      "source": [
        "---\n",
        "## Install Conda and create an *environment*, and install the required *packages* for the work.\n",
        "\n",
        "* The `condacolab` commands need to be run as the first Code cell!\n",
        "* After `condacolab.install()`, the Python kernel will be restarted.\n",
        "* Do not use the `Run all` option. Run the `condacolab` cell _individually_ and wait for the kernel to restart.\n",
        "* You can only use the `base` environment. Do not try to create new ones; instead update `base` with either:\n",
        "  * `conda install <packages>`\n",
        "  * `conda env update -n base -f environment.yml`\n",
        "\n",
        "## ***Attn:***\n",
        "###1) Click \"Runtime\" then \"Restart runtime\", otherwise obspy may report some error.\n",
        "\n",
        "###2) Every time you quit or reset the runtime, you wil need to install Conda again."
      ]
    },
    {
      "cell_type": "code",
      "execution_count": 1,
      "metadata": {
        "colab": {
          "base_uri": "https://localhost:8080/"
        },
        "id": "4bt_TamvFMz_",
        "outputId": "6027e22e-9795-4fd9-91ac-ee254f08eaf9"
      },
      "outputs": [
        {
          "output_type": "stream",
          "name": "stdout",
          "text": [
            "✨🍰✨ Everything looks OK!\n"
          ]
        }
      ],
      "source": [
        "# Import and install condacolab python library.\n",
        "!pip install -q condacolab\n",
        "import condacolab\n",
        "condacolab.install()"
      ]
    },
    {
      "cell_type": "code",
      "execution_count": 2,
      "metadata": {
        "colab": {
          "base_uri": "https://localhost:8080/"
        },
        "id": "V2joec4SFhWz",
        "outputId": "844c564b-1052-495e-c3b8-af62dc85ee46"
      },
      "outputs": [
        {
          "output_type": "stream",
          "name": "stdout",
          "text": [
            "✨🍰✨ Everything looks OK!\n",
            "no change     /usr/local/condabin/conda\n",
            "no change     /usr/local/bin/conda\n",
            "no change     /usr/local/bin/conda-env\n",
            "no change     /usr/local/bin/activate\n",
            "no change     /usr/local/bin/deactivate\n",
            "no change     /usr/local/etc/profile.d/conda.sh\n",
            "no change     /usr/local/etc/fish/conf.d/conda.fish\n",
            "no change     /usr/local/shell/condabin/Conda.psm1\n",
            "no change     /usr/local/shell/condabin/conda-hook.ps1\n",
            "no change     /usr/local/lib/python3.10/site-packages/xontrib/conda.xsh\n",
            "no change     /usr/local/etc/profile.d/conda.csh\n",
            "no change     /root/.bashrc\n",
            "No action taken.\n"
          ]
        }
      ],
      "source": [
        "#------------  RESTART kernel HERE!  ------------\n",
        "# Remove the pip installation of ObsPy for sanity reasons.\n",
        "#!pip uninstall obspy -y\n",
        "import condacolab\n",
        "condacolab.check()\n",
        "!conda init"
      ]
    },
    {
      "cell_type": "code",
      "execution_count": 3,
      "metadata": {
        "colab": {
          "base_uri": "https://localhost:8080/"
        },
        "id": "NZngyofTmfBC",
        "outputId": "817a4ec0-44e7-4ef9-9fa3-f74b79053a04",
        "collapsed": true
      },
      "outputs": [
        {
          "output_type": "stream",
          "name": "stdout",
          "text": [
            "Channels:\n",
            " - conda-forge\n",
            "Platform: linux-64\n",
            "Collecting package metadata (repodata.json): - \b\b\\ \b\b| \b\b/ \b\b- \b\b\\ \b\b| \b\b/ \b\b- \b\b\\ \b\b| \b\b/ \b\b- \b\b\\ \b\b| \b\b/ \b\b- \b\b\\ \b\b| \b\b/ \b\b- \b\b\\ \b\b| \b\b/ \b\b- \b\b\\ \b\b| \b\b/ \b\b- \b\b\\ \b\b| \b\b/ \b\b- \b\b\\ \b\b| \b\b/ \b\b- \b\b\\ \b\b| \b\b/ \b\b- \b\b\\ \b\b| \b\b/ \b\b- \b\b\\ \b\b| \b\b/ \b\b- \b\b\\ \b\b| \b\b/ \b\b- \b\b\\ \b\b| \b\b/ \b\b- \b\b\\ \b\b| \b\b/ \b\b- \b\b\\ \b\b| \b\b/ \b\b- \b\b\\ \b\b| \b\b/ \b\b- \b\b\\ \b\b| \b\b/ \b\b- \b\b\\ \b\b| \b\b/ \b\b- \b\b\\ \b\b| \b\b/ \b\b- \b\b\\ \b\b| \b\b/ \b\b- \b\b\\ \b\b| \b\b/ \b\b- \b\b\\ \b\b| \b\b/ \b\b- \b\b\\ \b\b| \b\b/ \b\b- \b\b\\ \b\b| \b\b/ \b\b- \b\b\\ \b\b| \b\b/ \b\b- \b\b\\ \b\b| \b\b/ \b\b- \b\b\\ \b\b| \b\b/ \b\b- \b\b\\ \b\b| \b\b/ \b\b- \b\b\\ \b\b| \b\b/ \b\b- \b\b\\ \b\b| \b\b/ \b\b- \b\b\\ \b\b| \b\b/ \b\b- \b\b\\ \b\b| \b\b/ \b\b- \b\b\\ \b\b| \b\b/ \b\b- \b\b\\ \b\b| \b\b/ \b\b- \b\b\\ \b\b| \b\b/ \b\b- \b\b\\ \b\b| \b\b/ \b\b- \b\b\\ \b\b| \b\b/ \b\b- \b\b\\ \b\b| \b\b/ \b\b- \b\b\\ \b\b| \b\b/ \b\b- \b\b\\ \b\b| \b\b/ \b\b- \b\b\\ \b\b| \b\b/ \b\b- \b\b\\ \b\b| \b\b/ \b\b- \b\b\\ \b\b| \b\b/ \b\b- \b\b\\ \b\b| \b\b/ \b\b- \b\b\\ \b\b| \b\b/ \b\b- \b\b\\ \b\b| \b\b/ \b\b- \b\b\\ \b\b| \b\b/ \b\b- \b\b\\ \b\b| \b\b/ \b\b- \b\b\\ \b\b| \b\b/ \b\b- \b\b\\ \b\b| \b\b/ \b\b- \b\b\\ \b\b| \b\b/ \b\b- \b\b\\ \b\b| \b\b/ \b\b- \b\b\\ \b\b| \b\b/ \b\b- \b\b\\ \b\b| \b\b/ \b\b- \b\b\\ \b\b| \b\b/ \b\b- \b\b\\ \b\b| \b\b/ \b\b- \b\b\\ \b\b| \b\b/ \b\b- \b\b\\ \b\b| \b\bdone\n",
            "Solving environment: - \b\b\\ \b\b| \b\b/ \b\bdone\n",
            "\n",
            "\n",
            "==> WARNING: A newer version of conda exists. <==\n",
            "    current version: 23.11.0\n",
            "    latest version: 24.7.1\n",
            "\n",
            "Please update conda by running\n",
            "\n",
            "    $ conda update -n base -c conda-forge conda\n",
            "\n",
            "\n",
            "\n",
            "# All requested packages already installed.\n",
            "\n",
            "conda 23.11.0\n",
            "\n",
            "CondaValueError: The target prefix is the base prefix. Aborting.\n",
            "\n",
            "\n",
            "     active environment : None\n",
            "       user config file : /root/.condarc\n",
            " populated config files : /usr/local/.condarc\n",
            "          conda version : 23.11.0\n",
            "    conda-build version : not installed\n",
            "         python version : 3.10.13.final.0\n",
            "                 solver : libmamba (default)\n",
            "       virtual packages : __archspec=1=broadwell\n",
            "                          __conda=23.11.0=0\n",
            "                          __glibc=2.35=0\n",
            "                          __linux=6.1.85=0\n",
            "                          __unix=0=0\n",
            "       base environment : /usr/local  (writable)\n",
            "      conda av data dir : /usr/local/etc/conda\n",
            "  conda av metadata url : None\n",
            "           channel URLs : https://conda.anaconda.org/conda-forge/linux-64\n",
            "                          https://conda.anaconda.org/conda-forge/noarch\n",
            "          package cache : /usr/local/pkgs\n",
            "                          /root/.conda/pkgs\n",
            "       envs directories : /usr/local/envs\n",
            "                          /root/.conda/envs\n",
            "               platform : linux-64\n",
            "             user-agent : conda/23.11.0 requests/2.31.0 CPython/3.10.13 Linux/6.1.85+ ubuntu/22.04.3 glibc/2.35 solver/libmamba conda-libmamba-solver/23.12.0 libmambapy/1.5.5\n",
            "                UID:GID : 0:0\n",
            "             netrc file : None\n",
            "           offline mode : False\n",
            "\n",
            "\n",
            "/usr/local/bin/conda\n",
            "\n",
            "\n",
            "==> WARNING: A newer version of conda exists. <==\n",
            "    current version: 23.11.0\n",
            "    latest version: 24.7.1\n",
            "\n",
            "Please update conda by running\n",
            "\n",
            "    $ conda update -n base -c conda-forge conda\n",
            "\n",
            "\n",
            "\n",
            "CondaError: Run 'conda init' before 'conda activate'\n",
            "\n",
            "/usr/local/bin/python: No module named ipykernel\n",
            "# conda environments:\n",
            "#\n",
            "base                     /usr/local\n",
            "pSeis                    /usr/local/envs/pSeis\n",
            "\n",
            "Channels:\n",
            " - conda-forge\n",
            "Platform: linux-64\n",
            "Collecting package metadata (repodata.json): - \b\b\\ \b\b| \b\b/ \b\b- \b\b\\ \b\b| \b\b/ \b\b- \b\b\\ \b\bdone\n",
            "Solving environment: / \b\b- \b\b\\ \b\b| \b\b/ \b\b- \b\bfailed\n",
            "\n",
            "PackagesNotFoundError: The following packages are not available from current channels:\n",
            "\n",
            "  - collections\n",
            "\n",
            "Current channels:\n",
            "\n",
            "  - https://conda.anaconda.org/conda-forge\n",
            "\n",
            "To search for alternate channels that may provide the conda package you're\n",
            "looking for, navigate to\n",
            "\n",
            "    https://anaconda.org\n",
            "\n",
            "and use the search bar at the top of the page.\n",
            "\n",
            "\n",
            "Channels:\n",
            " - conda-forge\n",
            "Platform: linux-64\n",
            "Collecting package metadata (repodata.json): - \b\b\\ \b\b| \b\b/ \b\b- \b\b\\ \b\b| \b\b/ \b\b- \b\b\\ \b\b| \b\b/ \b\b- \b\b\\ \b\b| \b\bdone\n",
            "Solving environment: - \b\b\\ \b\b| \b\b/ \b\bdone\n",
            "\n",
            "\n",
            "==> WARNING: A newer version of conda exists. <==\n",
            "    current version: 23.11.0\n",
            "    latest version: 24.7.1\n",
            "\n",
            "Please update conda by running\n",
            "\n",
            "    $ conda update -n base -c conda-forge conda\n",
            "\n",
            "\n",
            "\n",
            "# All requested packages already installed.\n",
            "\n",
            "Channels:\n",
            " - conda-forge\n",
            "Platform: linux-64\n",
            "Collecting package metadata (repodata.json): - \b\b\\ \b\b| \b\b/ \b\b- \b\b\\ \b\b| \b\b/ \b\b- \b\b\\ \b\b| \b\b/ \b\b- \b\b\\ \b\b| \b\b/ \b\b- \b\b\\ \b\bdone\n",
            "Solving environment: / \b\b- \b\b\\ \b\b| \b\b/ \b\bdone\n",
            "\n",
            "\n",
            "==> WARNING: A newer version of conda exists. <==\n",
            "    current version: 23.11.0\n",
            "    latest version: 24.7.1\n",
            "\n",
            "Please update conda by running\n",
            "\n",
            "    $ conda update -n base -c conda-forge conda\n",
            "\n",
            "\n",
            "\n",
            "# All requested packages already installed.\n",
            "\n",
            "obspy version==> 1.4.1\n",
            "Done!\n"
          ]
        }
      ],
      "source": [
        "# Verify the Conda installation. Update.\n",
        "!conda update -n base -c conda-forge conda --yes\n",
        "!conda --version\n",
        "\n",
        "# Create base environment\n",
        "!conda create -n base python=>3.9 -y\n",
        "\n",
        "# Locate the Conda package. Verify the Conda installation.\n",
        "!conda info\n",
        "!which conda\n",
        "\n",
        "# Create a new conda environment\n",
        "!conda create -n pSeis python=>3.9 -y\n",
        "\n",
        "# Activate the environment\n",
        "!conda activate pSeis\n",
        "\n",
        "!python -m ipykernel install --user --name pSeis --display-name \"pSeis\"\n",
        "\n",
        "!conda env list\n",
        "\n",
        "# Install needed packages\n",
        "# obspy>=3.8 numpy>=1.15.0 scipy>=1.4.0\n",
        "!conda install -c conda-forge pandas numpy matplotlib numpy scipy utm segyio collections\n",
        "# Install the certifi package, which is a dependency of the cartopy package, that obspy depends on.\n",
        "!conda install -c conda-forge certifi cartopy\n",
        "!conda install -c conda-forge obspy\n",
        "\n",
        "#sanity\n",
        "try:\n",
        "    import obspy\n",
        "except:\n",
        "    !pip install obspy\n",
        "\n",
        "# Import specialized ObsPy packages. Sanity.\n",
        "try:\n",
        "    import obspy\n",
        "    print('obspy version==>', obspy.__version__)\n",
        "except TypeError:\n",
        "    print('Stopping RUNTIME. If run for the first time Colab should be restarted. Run again.')\n",
        "    exit()\n",
        "\n",
        "from obspy import read\n",
        "from obspy import UTCDateTime\n",
        "from obspy import read, Stream\n",
        "\n",
        "# matplotlib magic command for Colab\n",
        "%matplotlib inline\n",
        "# matplotlib magic command for local Notebook\n",
        "%matplotlib notebook\n",
        "# Import matplotlib and alias it as 'plt'\n",
        "from matplotlib import pyplot as plt\n",
        "\n",
        "!echo \"Done!\""
      ]
    },
    {
      "cell_type": "markdown",
      "metadata": {
        "id": "NDxK3mML_sIh"
      },
      "source": [
        "---\n",
        "### Accessing a local data\n",
        "\n",
        "We work with data form the event occured in Acre in 2024 in miniSEED format.\n",
        "\n",
        "|EventID | Time | Lat | Long | Depth(km) | Mww | Location |\n",
        "| :- | :-: | :- | :- | :-: | :-: | :- |\n",
        "|11793085|2024-01-20T21:31|-7.2879|-71.464|607|6.6|WESTERN BRAZIL|\n",
        "\n",
        "As recorded at station IU HKT, distant $44^{\\circ}$ from the event.\n",
        "\n",
        "|Station|Seismometer| Lat | Long | Depth(m) | Channels |\n",
        "| :- | :- | :- | :- | :-: | :-: |\n",
        "|HKT: Hockley1 Texas|Streckeisen STS-6A VBB |29.96|-95.84|93|BH1, BH2, BHZ|\n",
        "\n",
        "Remove the instrument response."
      ]
    },
    {
      "cell_type": "markdown",
      "metadata": {
        "id": "7Nbg5ntHGIs9"
      },
      "source": [
        "Use the read function with the path to the data file.\n",
        "\n",
        "**st** is a stream object, which contains the data and associated metadata. The data are collections of trace objects."
      ]
    },
    {
      "cell_type": "code",
      "source": [
        "from obspy.clients.fdsn import Client\n",
        "from obspy.clients.fdsn.header import FDSNException\n",
        "\n",
        "# Specify start and end times\n",
        "starttime = UTCDateTime(\"2024-01-20T21:37:19.019539Z\") - 60\n",
        "endtime = UTCDateTime(\"2024-01-20T21:58:18.994539Z\")\n",
        "print(starttime, endtime)\n",
        "\n",
        "# Use wildcards to select all three HH* channels\n",
        "net = \"IU\"\n",
        "sta = \"HKT\"\n",
        "loc = \"00\"\n",
        "chan = \"HH*\"\n",
        "\n",
        "# Specify client. Opt:from obspy.clients.earthworm import Client\n",
        "# Get waveforms with instrument response into a stream\n",
        "#\n",
        "try:\n",
        "    client = Client(\"IRIS\")\n",
        "    st = client.get_waveforms(net, sta, loc, chan, starttime, endtime, attach_response = True)\n",
        "except:\n",
        "    from obspy.clients.earthworm import Client\n",
        "    client = Client(\"ETH\")\n",
        "    st = client.get_waveforms(net, sta, loc, chan, starttime, endtime, attach_response = True)\n",
        "\n",
        "# Print the stream object\n",
        "print(st)\n",
        "\n",
        "# Remove instrument response. other options: output = 'DISP', 'ACC'\n",
        "st.remove_response(output = 'VEL')\n",
        "\n",
        "!ls -l ./sample_data/\n",
        "#  st = read('./sample_data/wb11793085_ir.mseed')"
      ],
      "metadata": {
        "collapsed": true,
        "colab": {
          "base_uri": "https://localhost:8080/"
        },
        "id": "RV_cHW_wFNul",
        "outputId": "3e194268-855c-485a-e097-50305daddf34"
      },
      "execution_count": 4,
      "outputs": [
        {
          "output_type": "stream",
          "name": "stdout",
          "text": [
            "2024-01-20T21:36:19.019539Z 2024-01-20T21:58:18.994539Z\n",
            "3 Trace(s) in Stream:\n",
            "IU.HKT.00.HH1 | 2024-01-20T21:36:19.028394Z - 2024-01-20T21:43:14.538394Z | 100.0 Hz, 41552 samples\n",
            "IU.HKT.00.HH2 | 2024-01-20T21:36:19.028394Z - 2024-01-20T21:43:17.648394Z | 100.0 Hz, 41863 samples\n",
            "IU.HKT.00.HHZ | 2024-01-20T21:36:19.028394Z - 2024-01-20T21:43:17.688394Z | 100.0 Hz, 41867 samples\n",
            "total 55504\n",
            "-rwxr-xr-x 1 root root     1697 Jan  1  2000 anscombe.json\n",
            "-rw-r--r-- 1 root root   301141 Sep 10 13:28 california_housing_test.csv\n",
            "-rw-r--r-- 1 root root  1706430 Sep 10 13:28 california_housing_train.csv\n",
            "-rw-r--r-- 1 root root 18289443 Sep 10 13:28 mnist_test.csv\n",
            "-rw-r--r-- 1 root root 36523880 Sep 10 13:28 mnist_train_small.csv\n",
            "-rwxr-xr-x 1 root root      930 Jan  1  2000 README.md\n"
          ]
        }
      ]
    },
    {
      "cell_type": "markdown",
      "metadata": {
        "id": "oFt4sdo2iWbU"
      },
      "source": [
        "---\n",
        "### The frequency content\n",
        "\n",
        "The [spectrogram](https://docs.obspy.org/tutorial/code_snippets/plotting_spectrograms.html) shows the power in frequency bands (along the y-axis) for every few samples in time (along the x-axis). Warmer colours indicate more power - this station has most of it's power below 1 Hz, which is common for a time-period dominated by seismic noise."
      ]
    },
    {
      "cell_type": "code",
      "execution_count": null,
      "metadata": {
        "id": "8YfTYNe4uiNl"
      },
      "outputs": [],
      "source": [
        "# Read a trace from the stream object.\n",
        "tr = st[2]\n",
        "print(tr)\n",
        "# Print the trace metadata, e.g., tr.stats.npts\n",
        "print(tr.stats)\n",
        "\n",
        "# Construct a figure for BHZ trace\n",
        "fig, ax = plt.subplots()\n",
        "_ = st[2].spectrogram(log=True, dbscale=True, axes=ax, show=True, cmap = \"jet\")\n",
        "\n",
        "plt.show()"
      ]
    },
    {
      "cell_type": "markdown",
      "metadata": {
        "id": "GrMCXAnaw11x"
      },
      "source": [
        "## 3) Filtering\n",
        "**ObsPy** has several [filters](https://docs.obspy.org/packages/autogen/obspy.core.trace.Trace.filter.html).:\n",
        "- \"bandpass\" filters *retain* a frequency range $\\Delta f=\\left[f_{1},f_{2}\\right]=f_{1}\\leq\\Delta f\\leq f_{2}$;\n",
        "- \"lowpass\" filters *retain* the frequency range $\\Delta f\\leq f_{cutoff}$;\n",
        "- \"highpass\" filters *retain* the frequency range $\\Delta f\\geq f_{cutoff}$;\n",
        "- \"notch\" filters *remove* the frequency range $f_{1}\\leq\\Delta f\\leq f_{2}$, therefore does the *opposite* of bandpass.\n",
        "\n"
      ]
    },
    {
      "cell_type": "code",
      "execution_count": null,
      "metadata": {
        "id": "wnG7Aqrb0cHh"
      },
      "outputs": [],
      "source": [
        "# Import obspy Stream\n",
        "from obspy import Stream\n",
        "\n",
        "# BHZ trace. Check.\n",
        "# Read a trace from the stream object.\n",
        "tr = st[2]\n",
        "print(tr.stats.channel)\n",
        "tr.plot()\n",
        "\n",
        "# corners=filter order; zerophase=True, results in a zero phase shift.\n",
        "#tr.filter(\"highpass\", freq=6.)\n",
        "tr.filter(\"bandpass\", freqmin=6., freqmax=11.)\n",
        "\n",
        "# Plot filtered trace\n",
        "tr.plot(color = 'blue');\n",
        "\n",
        "# Plot spectograms\n",
        "fig, ax = plt.subplots()\n",
        "_ = tr.spectrogram(log=True, dbscale=True, axes=ax, show=True, cmap = \"jet\")"
      ]
    }
  ],
  "metadata": {
    "colab": {
      "provenance": [],
      "include_colab_link": true
    },
    "kernelspec": {
      "display_name": "Python 3 (ipykernel)",
      "language": "python",
      "name": "python3"
    },
    "language_info": {
      "codemirror_mode": {
        "name": "ipython",
        "version": 3
      },
      "file_extension": ".py",
      "mimetype": "text/x-python",
      "name": "python",
      "nbconvert_exporter": "python",
      "pygments_lexer": "ipython3",
      "version": "3.9.7"
    }
  },
  "nbformat": 4,
  "nbformat_minor": 0
}