{
  "cells": [
    {
      "cell_type": "markdown",
      "metadata": {
        "id": "1zTrGT3dQrSW"
      },
      "source": [
        "# Processing passive seismic data\n",
        "\n",
        "This notebook deals with data processing using a passive seismic dataset using [ObsPy](https://docs.obspy.org/).\n",
        "\n",
        "## It is intended to be run in Colab.\n",
        "\n",
        "\n",
        "#### Dependencies: Obspy, Numpy, Matplotlib\n",
        "\n",
        "#### Reset the Jupyter/IPython notebook in order to run it again, press:\n",
        "***Kernel*** -> ***Restart & Clear Output***"
      ]
    },
    {
      "cell_type": "markdown",
      "metadata": {
        "id": "hwxkSEiXEKVn"
      },
      "source": [
        "---\n",
        "## Install Conda and create an *environment*, and install the required *packages* for the work.\n",
        "\n",
        "* The `condacolab` commands need to be run as the first Code cell!\n",
        "* After `condacolab.install()`, the Python kernel will be restarted.\n",
        "* Do not use the `Run all` option. Run the `condacolab` cell _individually_ and wait for the kernel to restart.\n",
        "* You can only use the `base` environment. Do not try to create new ones; instead update `base` with either:\n",
        "  * `conda install <packages>`\n",
        "  * `conda env update -n base -f environment.yml`\n",
        "\n",
        "## ***Attn:*** Every time you quit or reset the runtime, you wil need to install Conda again."
      ]
    },
    {
      "cell_type": "code",
      "execution_count": 1,
      "metadata": {
        "colab": {
          "base_uri": "https://localhost:8080/"
        },
        "id": "4bt_TamvFMz_",
        "outputId": "3bb6b3b9-42c5-4bb9-9a66-7b46d4461a2e"
      },
      "outputs": [
        {
          "output_type": "stream",
          "name": "stdout",
          "text": [
            "⏬ Downloading https://github.com/conda-forge/miniforge/releases/download/23.11.0-0/Mambaforge-23.11.0-0-Linux-x86_64.sh...\n",
            "📦 Installing...\n",
            "📌 Adjusting configuration...\n",
            "🩹 Patching environment...\n",
            "⏲ Done in 0:00:23\n",
            "🔁 Restarting kernel...\n"
          ]
        }
      ],
      "source": [
        "# Import and install condacolab python library.\n",
        "!pip install -q condacolab\n",
        "import condacolab\n",
        "condacolab.install()"
      ]
    },
    {
      "cell_type": "code",
      "execution_count": 1,
      "metadata": {
        "colab": {
          "base_uri": "https://localhost:8080/"
        },
        "id": "V2joec4SFhWz",
        "outputId": "7bdad0c0-db1c-4eed-c608-2bf9f2df7f2f"
      },
      "outputs": [
        {
          "output_type": "stream",
          "name": "stdout",
          "text": [
            "✨🍰✨ Everything looks OK!\n"
          ]
        }
      ],
      "source": [
        "#  kernel restart HERE!\n",
        "import condacolab\n",
        "condacolab.check()"
      ]
    },
    {
      "cell_type": "code",
      "execution_count": 2,
      "metadata": {
        "colab": {
          "base_uri": "https://localhost:8080/"
        },
        "id": "NZngyofTmfBC",
        "outputId": "3e6d675a-bcbc-46ed-82cc-fdc69330fb0c",
        "collapsed": true
      },
      "outputs": [
        {
          "output_type": "stream",
          "name": "stdout",
          "text": [
            "conda 23.11.0\n",
            "Channels:\n",
            " - conda-forge\n",
            "Platform: linux-64\n",
            "Collecting package metadata (repodata.json): - \b\b\\ \b\b| \b\b/ \b\b- \b\b\\ \b\b| \b\b/ \b\b- \b\b\\ \b\b| \b\b/ \b\b- \b\b\\ \b\b| \b\b/ \b\b- \b\b\\ \b\b| \b\b/ \b\b- \b\b\\ \b\b| \b\b/ \b\b- \b\b\\ \b\b| \b\b/ \b\bdone\n",
            "Solving environment: \\ \b\b| \b\b/ \b\b- \b\b\\ \b\b| \b\b/ \b\bdone\n",
            "\n",
            "\n",
            "==> WARNING: A newer version of conda exists. <==\n",
            "    current version: 23.11.0\n",
            "    latest version: 24.7.1\n",
            "\n",
            "Please update conda by running\n",
            "\n",
            "    $ conda update -n base -c conda-forge conda\n",
            "\n",
            "\n",
            "\n",
            "# All requested packages already installed.\n",
            "\n",
            "conda 23.11.0\n",
            "\n",
            "\n",
            "WARNING: The --force flag will be removed in a future conda release.\n",
            "         See 'conda install --help' for details about the --force-reinstall\n",
            "         and --clobber flags.\n",
            "\n",
            "\n",
            "Channels:\n",
            " - conda-forge\n",
            "Platform: linux-64\n",
            "Collecting package metadata (repodata.json): - \b\b\\ \b\b| \b\b/ \b\b- \b\b\\ \b\b| \b\b/ \b\b- \b\b\\ \b\b| \b\b/ \b\b- \b\b\\ \b\b| \b\b/ \b\b- \b\b\\ \b\b| \b\b/ \b\b- \b\b\\ \b\b| \b\b/ \b\bdone\n",
            "Solving environment: \\ \b\b| \b\b/ \b\b- \b\b\\ \b\b| \b\b/ \b\b- \b\bdone\n",
            "\n",
            "\n",
            "==> WARNING: A newer version of conda exists. <==\n",
            "    current version: 23.11.0\n",
            "    latest version: 24.7.1\n",
            "\n",
            "Please update conda by running\n",
            "\n",
            "    $ conda update -n base -c conda-forge conda\n",
            "\n",
            "\n",
            "\n",
            "## Package Plan ##\n",
            "\n",
            "  environment location: /usr/local\n",
            "\n",
            "  added / updated specs:\n",
            "    - cartopy\n",
            "    - certifi\n",
            "\n",
            "\n",
            "\n",
            "\n",
            "Downloading and Extracting Packages:\n",
            "\n",
            "Preparing transaction: | \b\bdone\n",
            "Verifying transaction: - \b\bdone\n",
            "Executing transaction: | \b\b/ \b\b- \b\b\\ \b\b| \b\b/ \b\bdone\n",
            "\n",
            "\n",
            "==> WARNING: A newer version of conda exists. <==\n",
            "    current version: 23.11.0\n",
            "    latest version: 24.7.1\n",
            "\n",
            "Please update conda by running\n",
            "\n",
            "    $ conda update -n base -c conda-forge conda\n",
            "\n",
            "\n",
            "\n",
            "     active environment : None\n",
            "       user config file : /root/.condarc\n",
            " populated config files : /usr/local/.condarc\n",
            "          conda version : 23.11.0\n",
            "    conda-build version : not installed\n",
            "         python version : 3.10.13.final.0\n",
            "                 solver : libmamba (default)\n",
            "       virtual packages : __archspec=1=broadwell\n",
            "                          __conda=23.11.0=0\n",
            "                          __glibc=2.35=0\n",
            "                          __linux=6.1.85=0\n",
            "                          __unix=0=0\n",
            "       base environment : /usr/local  (writable)\n",
            "      conda av data dir : /usr/local/etc/conda\n",
            "  conda av metadata url : None\n",
            "           channel URLs : https://conda.anaconda.org/conda-forge/linux-64\n",
            "                          https://conda.anaconda.org/conda-forge/noarch\n",
            "          package cache : /usr/local/pkgs\n",
            "                          /root/.conda/pkgs\n",
            "       envs directories : /usr/local/envs\n",
            "                          /root/.conda/envs\n",
            "               platform : linux-64\n",
            "             user-agent : conda/23.11.0 requests/2.31.0 CPython/3.10.13 Linux/6.1.85+ ubuntu/22.04.3 glibc/2.35 solver/libmamba conda-libmamba-solver/23.12.0 libmambapy/1.5.5\n",
            "                UID:GID : 0:0\n",
            "             netrc file : None\n",
            "           offline mode : False\n",
            "\n",
            "\n",
            "/usr/local/bin/conda\n",
            "# conda environments:\n",
            "#\n",
            "base                     /usr/local\n",
            "\n"
          ]
        }
      ],
      "source": [
        "# Verify the Conda installation. Update.\n",
        "!conda --version\n",
        "#!conda update -n base -c defaults conda --yes\n",
        "!conda update -n base -c conda-forge conda --yes\n",
        "!conda --version\n",
        "\n",
        "# Install the certifi package, which is a dependency of the cartopy package, that obspy depends on.\n",
        "!conda install -f certifi cartopy\n",
        "\n",
        "# Create environment.yml\n",
        "!conda install pandas numpy matplotlib numpy>=1.15.0 scipy>=1.4.0 obspy utm segyio\n",
        "\n",
        "# Locate the Conda package. List environments. Verify the Conda installation.\n",
        "!conda info\n",
        "!which conda\n",
        "!conda env list\n",
        "\n",
        "# Importing specialized ObsPy packages\n",
        "from obspy import read\n",
        "from obspy import UTCDateTime\n",
        "from obspy import read, Stream\n",
        "\n",
        "# matplotlib magic command for Colab\n",
        "%matplotlib inline\n",
        "# matplotlib magic command for local Notebook\n",
        "#%matplotlib notebook\n",
        "\n",
        "# Import matplotlib and alias it as 'plt'\n",
        "from matplotlib import pyplot as plt\n",
        "%matplotlib notebook\n"
      ]
    },
    {
      "cell_type": "markdown",
      "metadata": {
        "id": "NDxK3mML_sIh"
      },
      "source": [
        "---\n",
        "### Accessing a local data\n",
        "\n",
        "We work with data form an event occured in Acre in 2024 in miniSEED format and already with the instrument response removed [wb11793085_ir.mseed](https://github.com/jandyr/ProSeisSN_Nbk/blob/main/wb11793085_ir.mseed).\n",
        "\n",
        "|EventID | Time | Lat | Long | Depth(km) | Mww | Location |\n",
        "| :- | :-: | :- | :- | :-: | :-: | :- |\n",
        "|11793085|2024-01-20T21:31|-7.2879|-71.464|607|6.6|WESTERN BRAZIL|\n",
        "\n",
        "As recorded at station IU HKT, distant $44^{\\circ}$ from the event.\n",
        "\n",
        "|Station|Seismometer| Lat | Long | Depth(m) | Channels |\n",
        "| :- | :- | :- | :- | :-: | :-: |\n",
        "|HKT: Hockley1 Texas|Streckeisen STS-6A VBB |29.96|-95.84|93|BH1, BH2, BHZ|\n"
      ]
    },
    {
      "cell_type": "markdown",
      "metadata": {
        "id": "7Nbg5ntHGIs9"
      },
      "source": [
        "Use the read function with the path to the data file.\n",
        "\n",
        "**st** is a stream object, which contains the data and associated metadata. The data are collections of trace objects."
      ]
    },
    {
      "cell_type": "code",
      "execution_count": 4,
      "metadata": {
        "colab": {
          "base_uri": "https://localhost:8080/",
          "height": 374
        },
        "id": "dFXFE-hXGqBF",
        "outputId": "a0f5436c-f938-4c42-a350-3a5155c374ec"
      },
      "outputs": [
        {
          "output_type": "error",
          "ename": "FileNotFoundError",
          "evalue": "[Errno 2] No such file or directory: './wb11793085_ir.mseed'",
          "traceback": [
            "\u001b[0;31m---------------------------------------------------------------------------\u001b[0m",
            "\u001b[0;31mFileNotFoundError\u001b[0m                         Traceback (most recent call last)",
            "\u001b[0;32m<ipython-input-4-edb37b1d765d>\u001b[0m in \u001b[0;36m<cell line: 1>\u001b[0;34m()\u001b[0m\n\u001b[0;32m----> 1\u001b[0;31m \u001b[0mst\u001b[0m \u001b[0;34m=\u001b[0m \u001b[0mread\u001b[0m\u001b[0;34m(\u001b[0m\u001b[0;34m'./wb11793085_ir.mseed'\u001b[0m\u001b[0;34m)\u001b[0m\u001b[0;34m\u001b[0m\u001b[0;34m\u001b[0m\u001b[0m\n\u001b[0m\u001b[1;32m      2\u001b[0m \u001b[0mprint\u001b[0m\u001b[0;34m(\u001b[0m\u001b[0mst\u001b[0m\u001b[0;34m)\u001b[0m\u001b[0;34m\u001b[0m\u001b[0;34m\u001b[0m\u001b[0m\n",
            "\u001b[0;32m<decorator-gen-186>\u001b[0m in \u001b[0;36mread\u001b[0;34m(pathname_or_url, format, headonly, starttime, endtime, nearest_sample, dtype, apply_calib, check_compression, **kwargs)\u001b[0m\n",
            "\u001b[0;32m/usr/local/lib/python3.10/site-packages/obspy/core/util/decorator.py\u001b[0m in \u001b[0;36m_map_example_filename\u001b[0;34m(func, *args, **kwargs)\u001b[0m\n\u001b[1;32m    289\u001b[0m                         \u001b[0;32mexcept\u001b[0m \u001b[0mIOError\u001b[0m\u001b[0;34m:\u001b[0m\u001b[0;34m\u001b[0m\u001b[0;34m\u001b[0m\u001b[0m\n\u001b[1;32m    290\u001b[0m                             \u001b[0;32mpass\u001b[0m\u001b[0;34m\u001b[0m\u001b[0;34m\u001b[0m\u001b[0m\n\u001b[0;32m--> 291\u001b[0;31m         \u001b[0;32mreturn\u001b[0m \u001b[0mfunc\u001b[0m\u001b[0;34m(\u001b[0m\u001b[0;34m*\u001b[0m\u001b[0margs\u001b[0m\u001b[0;34m,\u001b[0m \u001b[0;34m**\u001b[0m\u001b[0mkwargs\u001b[0m\u001b[0;34m)\u001b[0m\u001b[0;34m\u001b[0m\u001b[0;34m\u001b[0m\u001b[0m\n\u001b[0m\u001b[1;32m    292\u001b[0m     \u001b[0;32mreturn\u001b[0m \u001b[0m_map_example_filename\u001b[0m\u001b[0;34m\u001b[0m\u001b[0;34m\u001b[0m\u001b[0m\n\u001b[1;32m    293\u001b[0m \u001b[0;34m\u001b[0m\u001b[0m\n",
            "\u001b[0;32m/usr/local/lib/python3.10/site-packages/obspy/core/stream.py\u001b[0m in \u001b[0;36mread\u001b[0;34m(pathname_or_url, format, headonly, starttime, endtime, nearest_sample, dtype, apply_calib, check_compression, **kwargs)\u001b[0m\n\u001b[1;32m    206\u001b[0m         \u001b[0mst\u001b[0m \u001b[0;34m=\u001b[0m \u001b[0m_create_example_stream\u001b[0m\u001b[0;34m(\u001b[0m\u001b[0mheadonly\u001b[0m\u001b[0;34m=\u001b[0m\u001b[0mheadonly\u001b[0m\u001b[0;34m)\u001b[0m\u001b[0;34m\u001b[0m\u001b[0;34m\u001b[0m\u001b[0m\n\u001b[1;32m    207\u001b[0m     \u001b[0;32melse\u001b[0m\u001b[0;34m:\u001b[0m\u001b[0;34m\u001b[0m\u001b[0;34m\u001b[0m\u001b[0m\n\u001b[0;32m--> 208\u001b[0;31m         \u001b[0mst\u001b[0m \u001b[0;34m=\u001b[0m \u001b[0m_generic_reader\u001b[0m\u001b[0;34m(\u001b[0m\u001b[0mpathname_or_url\u001b[0m\u001b[0;34m,\u001b[0m \u001b[0m_read\u001b[0m\u001b[0;34m,\u001b[0m \u001b[0;34m**\u001b[0m\u001b[0mkwargs\u001b[0m\u001b[0;34m)\u001b[0m\u001b[0;34m\u001b[0m\u001b[0;34m\u001b[0m\u001b[0m\n\u001b[0m\u001b[1;32m    209\u001b[0m \u001b[0;34m\u001b[0m\u001b[0m\n\u001b[1;32m    210\u001b[0m     \u001b[0;32mif\u001b[0m \u001b[0mlen\u001b[0m\u001b[0;34m(\u001b[0m\u001b[0mst\u001b[0m\u001b[0;34m)\u001b[0m \u001b[0;34m==\u001b[0m \u001b[0;36m0\u001b[0m\u001b[0;34m:\u001b[0m\u001b[0;34m\u001b[0m\u001b[0;34m\u001b[0m\u001b[0m\n",
            "\u001b[0;32m/usr/local/lib/python3.10/site-packages/obspy/core/util/base.py\u001b[0m in \u001b[0;36m_generic_reader\u001b[0;34m(pathname_or_url, callback_func, **kwargs)\u001b[0m\n\u001b[1;32m    653\u001b[0m                 \u001b[0;32mraise\u001b[0m \u001b[0mException\u001b[0m\u001b[0;34m(\u001b[0m\u001b[0;34m\"No file matching file pattern: %s\"\u001b[0m \u001b[0;34m%\u001b[0m \u001b[0mpathname\u001b[0m\u001b[0;34m)\u001b[0m\u001b[0;34m\u001b[0m\u001b[0;34m\u001b[0m\u001b[0m\n\u001b[1;32m    654\u001b[0m             \u001b[0;32melif\u001b[0m \u001b[0;32mnot\u001b[0m \u001b[0mglob\u001b[0m\u001b[0;34m.\u001b[0m\u001b[0mhas_magic\u001b[0m\u001b[0;34m(\u001b[0m\u001b[0mpathname\u001b[0m\u001b[0;34m)\u001b[0m \u001b[0;32mand\u001b[0m \u001b[0;32mnot\u001b[0m \u001b[0mPath\u001b[0m\u001b[0;34m(\u001b[0m\u001b[0mpathname\u001b[0m\u001b[0;34m)\u001b[0m\u001b[0;34m.\u001b[0m\u001b[0mis_file\u001b[0m\u001b[0;34m(\u001b[0m\u001b[0;34m)\u001b[0m\u001b[0;34m:\u001b[0m\u001b[0;34m\u001b[0m\u001b[0;34m\u001b[0m\u001b[0m\n\u001b[0;32m--> 655\u001b[0;31m                 \u001b[0;32mraise\u001b[0m \u001b[0mIOError\u001b[0m\u001b[0;34m(\u001b[0m\u001b[0;36m2\u001b[0m\u001b[0;34m,\u001b[0m \u001b[0;34m\"No such file or directory\"\u001b[0m\u001b[0;34m,\u001b[0m \u001b[0mpathname\u001b[0m\u001b[0;34m)\u001b[0m\u001b[0;34m\u001b[0m\u001b[0;34m\u001b[0m\u001b[0m\n\u001b[0m\u001b[1;32m    656\u001b[0m \u001b[0;34m\u001b[0m\u001b[0m\n\u001b[1;32m    657\u001b[0m         \u001b[0mgeneric\u001b[0m \u001b[0;34m=\u001b[0m \u001b[0mcallback_func\u001b[0m\u001b[0;34m(\u001b[0m\u001b[0mpathnames\u001b[0m\u001b[0;34m[\u001b[0m\u001b[0;36m0\u001b[0m\u001b[0;34m]\u001b[0m\u001b[0;34m,\u001b[0m \u001b[0;34m**\u001b[0m\u001b[0mkwargs\u001b[0m\u001b[0;34m)\u001b[0m\u001b[0;34m\u001b[0m\u001b[0;34m\u001b[0m\u001b[0m\n",
            "\u001b[0;31mFileNotFoundError\u001b[0m: [Errno 2] No such file or directory: './wb11793085_ir.mseed'"
          ]
        }
      ],
      "source": [
        "st = read('./wb11793085_ir.mseed')\n",
        "print(st)"
      ]
    },
    {
      "cell_type": "markdown",
      "metadata": {
        "id": "oFt4sdo2iWbU"
      },
      "source": [
        "---\n",
        "### The frequency content\n",
        "\n",
        "The [spectrogram](https://docs.obspy.org/tutorial/code_snippets/plotting_spectrograms.html) shows the power in frequency bands (along the y-axis) for every few samples in time (along the x-axis). Warmer colours indicate more power - this station has most of it's power below 1 Hz, which is common for a time-period dominated by seismic noise."
      ]
    },
    {
      "cell_type": "code",
      "execution_count": null,
      "metadata": {
        "id": "8YfTYNe4uiNl"
      },
      "outputs": [],
      "source": [
        "# Read a trace from the stream object.\n",
        "tr = st[2]\n",
        "print(tr)\n",
        "# Print the trace metadata, e.g., tr.stats.npts\n",
        "print(tr.stats)\n",
        "\n",
        "# Construct a figure for BHZ trace\n",
        "fig, ax = plt.subplots()\n",
        "_ = st[2].spectrogram(log=True, dbscale=True, axes=ax, show=True, cmap = \"jet\")\n",
        "\n",
        "plt.show()"
      ]
    },
    {
      "cell_type": "markdown",
      "metadata": {
        "id": "GrMCXAnaw11x"
      },
      "source": [
        "## 3) Filtering\n",
        "**ObsPy** has several [filters](https://docs.obspy.org/packages/autogen/obspy.core.trace.Trace.filter.html).:\n",
        "- \"bandpass\" filters *retain* a frequency range $\\Delta f=\\left[f_{1},f_{2}\\right]=f_{1}\\leq\\Delta f\\leq f_{2}$;\n",
        "- \"lowpass\" filters *retain* the frequency range $\\Delta f\\leq f_{cutoff}$;\n",
        "- \"highpass\" filters *retain* the frequency range $\\Delta f\\geq f_{cutoff}$;\n",
        "- \"notch\" filters *remove* the frequency range $f_{1}\\leq\\Delta f\\leq f_{2}$, therefore does the *opposite* of bandpass.\n",
        "\n"
      ]
    },
    {
      "cell_type": "code",
      "execution_count": null,
      "metadata": {
        "id": "wnG7Aqrb0cHh"
      },
      "outputs": [],
      "source": [
        "# Import obspy Stream\n",
        "from obspy import Stream\n",
        "\n",
        "# BHZ trace. Check.\n",
        "# Read a trace from the stream object.\n",
        "tr = st[2]\n",
        "print(tr.stats.channel)\n",
        "tr.plot()\n",
        "\n",
        "# corners=filter order; zerophase=True, results in a zero phase shift.\n",
        "#tr.filter(\"highpass\", freq=6.)\n",
        "tr.filter(\"bandpass\", freqmin=6., freqmax=11.)\n",
        "\n",
        "# Plot filtered trace\n",
        "tr.plot(color = 'blue');\n",
        "\n",
        "# Plot spectograms\n",
        "fig, ax = plt.subplots()\n",
        "_ = tr.spectrogram(log=True, dbscale=True, axes=ax, show=True, cmap = \"jet\")"
      ]
    }
  ],
  "metadata": {
    "colab": {
      "provenance": []
    },
    "kernelspec": {
      "display_name": "Python 3 (ipykernel)",
      "language": "python",
      "name": "python3"
    },
    "language_info": {
      "codemirror_mode": {
        "name": "ipython",
        "version": 3
      },
      "file_extension": ".py",
      "mimetype": "text/x-python",
      "name": "python",
      "nbconvert_exporter": "python",
      "pygments_lexer": "ipython3",
      "version": "3.9.7"
    }
  },
  "nbformat": 4,
  "nbformat_minor": 0
}